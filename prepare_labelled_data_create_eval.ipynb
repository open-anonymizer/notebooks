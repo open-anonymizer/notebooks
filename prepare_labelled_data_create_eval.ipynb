{
 "cells": [
  {
   "cell_type": "code",
   "execution_count": null,
   "metadata": {},
   "outputs": [],
   "source": [
    "import json\n",
    "import pickle\n",
    "import re"
   ]
  },
  {
   "cell_type": "code",
   "execution_count": null,
   "metadata": {},
   "outputs": [],
   "source": [
    "data = []\n",
    "with open(\"../data/labelled_data_20210311.jsonl\", \"r\", encoding='utf-8') as f:\n",
    "    for line in f:\n",
    "        data.append(json.loads(line.rstrip('\\n|\\r')))"
   ]
  },
  {
   "cell_type": "code",
   "execution_count": null,
   "metadata": {},
   "outputs": [],
   "source": [
    "new_gold = []\n",
    "for each in data:\n",
    "    temp_labels = each.get(\"labels\")\n",
    "    temp_text = each.get(\"text\")\n",
    "    \n",
    "    text_splitted = re.split(\"\\s|!|\\.|,|\\\\(|\\\\)\", temp_text)\n",
    "    text_splitted = [e for e in text_splitted if len(e) > 1]\n",
    "\n",
    "    text_splitted = [{e: \"O\"} for e in text_splitted]\n",
    "    \n",
    "    ent_to_put_in = []\n",
    "    for l in temp_labels:\n",
    "        ent = temp_text[l[0]:l[1]]\n",
    "        label = l[2]\n",
    "        ent_splitted = ent.split()\n",
    "        # print(ent_splitted)\n",
    "        for e in ent_splitted:\n",
    "            temp_e = {e: label}\n",
    "            ent_to_put_in.append(temp_e)\n",
    "    \n",
    "    ent_to_put_in = [i for n, i in enumerate(ent_to_put_in) if i not in ent_to_put_in[n + 1:]]\n",
    "    # print(ent_to_put_in)\n",
    "    ent = []\n",
    "    for i in ent_to_put_in:\n",
    "        for k,v in i.items():\n",
    "            ent.append(k)\n",
    "    \n",
    "    new_split = []\n",
    "    \n",
    "    for each_text in text_splitted:\n",
    "        for k,v in each_text.items():\n",
    "            if k in ent: \n",
    "                for each_item in ent_to_put_in:\n",
    "                    for i, o in each_item.items():\n",
    "                        if k == i:\n",
    "                            temp_each_text = {i: o}\n",
    "                            new_split.append(temp_each_text)\n",
    "            else:\n",
    "                new_split.append(each_text)\n",
    "    \n",
    "    new_gold.append({\"text\": temp_text, \"with_labels\": new_split})"
   ]
  },
  {
   "cell_type": "code",
   "execution_count": null,
   "metadata": {},
   "outputs": [],
   "source": [
    "with open(\"../data/prepared/20210311_eval.pickle\", \"wb\") as fp:\n",
    "    pickle.dump(new_gold, fp)"
   ]
  },
  {
   "cell_type": "code",
   "execution_count": null,
   "metadata": {},
   "outputs": [],
   "source": []
  }
 ],
 "metadata": {
  "kernelspec": {
   "display_name": "Python 3.7.1 64-bit ('base': conda)",
   "language": "python",
   "name": "python37164bitbasecondaaa94caa9ae8f40b5828bbcf198566ff1"
  },
  "language_info": {
   "codemirror_mode": {
    "name": "ipython",
    "version": 3
   },
   "file_extension": ".py",
   "mimetype": "text/x-python",
   "name": "python",
   "nbconvert_exporter": "python",
   "pygments_lexer": "ipython3",
   "version": "3.7.1"
  }
 },
 "nbformat": 4,
 "nbformat_minor": 2
}
